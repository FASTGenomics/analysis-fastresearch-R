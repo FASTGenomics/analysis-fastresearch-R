{
 "cells": [
  {
   "cell_type": "markdown",
   "source": [
    "# Welcome to fastresearch!"
   ],
   "metadata": {}
  },
  {
   "cell_type": "markdown",
   "source": [
    "## Load data\r\n",
    "If you attached a dataset to this analysis, it can be found at\r\n",
    "\r\n",
    "`/fastgenomics/data/dataset_0001`\r\n",
    "\r\n",
    "In the `data` folder you can find one subfolder for each dataset. In order to preserve reproducibility, the `data` folder is write-protected by design."
   ],
   "metadata": {}
  },
  {
   "cell_type": "markdown",
   "source": [
    "## Introduction to Jupyter lab\r\n",
    "<div class=\"alert alert-info\">This is a short introduction to Jupyter Lab notebooks. If you're familiar with Jupyter Lab, you can delete this introduction.</div>\r\n",
    "\r\n",
    "Let's shortly have a look at the basics of how to control a Jupyter notebook. This here is a very short introduction, the interested reader may also visit our <a href=\"https://envsci.fastresearch.io/p/get-started\" target=\"_blank\">Get Started Project</a>.\r\n",
    "\r\n",
    "## Cells - Markdown and Code\r\n",
    "\r\n",
    "All code, text, and output/figures are arranged in cells, which can be accessed and edited separately.\r\n",
    "\r\n",
    "1. <a href=\"https://en.wikipedia.org/wiki/Markdown\" target=\"_blank\">Markdown</a> is a markup language that is used to describe the context of the code cells. It is a great way to help the reader of your notebook  to understand what you are doing. **Our advise: use as much markup as possible!** It will make your results more reproducible and your interpretations better understandable. Everything you saw until here in this notebook is written in markdown. If you are already in interactive mode, double-click this text to change it.\r\n",
    "\r\n",
    "1. Code cells 'are where you insert your Python or R code. You can also execute system commands and some other things that we will get into detail later.\r\n",
    "\r\n",
    "### Execute Cells\r\n",
    "\r\n",
    "To execute a cell, click on the play button in the header menu. Alternatively, use one of the following shortcuts:\r\n",
    "* Execute cell and stay focused on that cell: <kbd>CTRL</kbd>+<kbd>ENTER</kbd>\r\n",
    "* Execute cell and move focus to next cell: <kbd>SHIFT</kbd>+<kbd>ENTER</kbd>\r\n",
    "* Execute cell and create a new cell below: <kbd>ALT</kbd>+<kbd>ENTER</kbd>\r\n",
    "\r\n",
    "Try it out:"
   ],
   "metadata": {}
  },
  {
   "cell_type": "code",
   "execution_count": 2,
   "source": [
    "# Execute me, I am a code cell\r\n",
    "# the hash at the beginning marks a comment\r\n",
    "print(paste0(\"Hello fastresearch!\"))"
   ],
   "outputs": [
    {
     "output_type": "stream",
     "name": "stdout",
     "text": [
      "Hello fastresearch!\n"
     ]
    }
   ],
   "metadata": {}
  },
  {
   "cell_type": "markdown",
   "source": [
    "### Create a New Cell\n",
    "\n",
    "Next, let's select a cell and create a new one beneath this one. To do that\n",
    "1. Click on this cell to select it\n",
    "2. Click on the \\+ in the second row of the header menu or hit <kbd>B</kbd>. To add the cell above the current one press <kbd>A</kbd>.\n",
    "\n",
    "### Change the Cell Type\n",
    "\n",
    "The cell that you have created is by default a code cell. **To change the type of a cell to a markdown cell, use the drop-down menu in the header menu** and change it from *Code* to *Markdown*. After you did that you can play around a little. You could insert the headings example above, or try the following markups:\n",
    "```\n",
    "*This text will be italic*\n",
    "_This will also be italic_\n",
    "**This text will be bold**\n",
    "__This will also be bold__\n",
    "*You **can** combine them*\n",
    "```\n",
    "\n",
    "### Delete Cells\n",
    "To delete a cell, you can either select the cell by clicking on it and then go to `Edit --> Delete Cells`. Or you can use the keyboard shortcut: click on the cell and then use <kbd>ESC</kbd>, <kbd>D</kbd>, <kbd>D</kbd> all pressed in sequence (<kbd>ESC</kbd> switches to command mode and <kbd>D</kbd>, <kbd>D</kbd> is the shortcut to delete). "
   ],
   "metadata": {}
  },
  {
   "cell_type": "markdown",
   "source": [
    "If you are in interactive mode, **try to delete this cell.**"
   ],
   "metadata": {}
  },
  {
   "cell_type": "markdown",
   "source": [
    "## Jupyter Environment\n",
    "The Jupyter environment consists of the Jupyter main window, a header menu and the Jupyter sidebar, which are briefly introduced here.\n",
    "\n",
    "### Header Menu <a id=\"menu\"></a>\n",
    "The header menu consists of two rows, the basic menu on top and some notebook tools below. Most of the functionality is self-descriptive. The **Run** menu is quite important as it controls which cells to run, and also the **Kernel** menu is worth a look (the kernel is the computation core of the notebook).\n",
    "\n",
    "### Jupyter Sidebar  <a id=\"sidelab\"></a>\n",
    "The collapsible Jupyter lab sidebar has five menus:\n",
    "* File browser\n",
    "* Property Inspector\n",
    "* Running Terminals and Kernels\n",
    "* Table of  Contents\n",
    "* Extension Manager\n",
    "\n",
    "By far the most important is the file browser, where you can directly access the all files of your analysis. The `/analysis` folder is your writable directory. Here is where your notebook `analysis.ipynb` is located, and where you can create and delete files as you feel fit. **Note that you can actually drag and drop files into it from your local machine**. There is another folder, `/data`, where your data is mounted on. However, this folder is write-protected.\n",
    "\n",
    "### Jupyter main window\n",
    "This is the window where you can write your code and markdown."
   ],
   "metadata": {}
  },
  {
   "cell_type": "code",
   "execution_count": 3,
   "source": [
    "# now you're good to go. Let's get started!"
   ],
   "outputs": [],
   "metadata": {}
  }
 ],
 "metadata": {
  "kernelspec": {
   "display_name": "R",
   "language": "R",
   "name": "ir"
  },
  "language_info": {
   "codemirror_mode": "r",
   "file_extension": ".r",
   "mimetype": "text/x-r-source",
   "name": "R",
   "pygments_lexer": "r",
   "version": "4.1.1"
  },
  "widgets": {
   "application/vnd.jupyter.widget-state+json": {
    "state": {},
    "version_major": 2,
    "version_minor": 0
   }
  }
 },
 "nbformat": 4,
 "nbformat_minor": 5
}